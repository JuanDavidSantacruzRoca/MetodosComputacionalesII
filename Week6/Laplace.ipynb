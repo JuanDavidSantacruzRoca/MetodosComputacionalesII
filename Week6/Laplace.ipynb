{
 "cells": [
  {
   "cell_type": "code",
   "execution_count": 1,
   "id": "b6f9db72",
   "metadata": {},
   "outputs": [],
   "source": [
    "%matplotlib notebook\n",
    "import numpy as np\n",
    "import matplotlib.pyplot as plt\n",
    "from mpl_toolkits.mplot3d import axes3d\n",
    "from tqdm import tqdm"
   ]
  },
  {
   "cell_type": "code",
   "execution_count": 2,
   "id": "97d06be6",
   "metadata": {},
   "outputs": [
    {
     "name": "stdout",
     "output_type": "stream",
     "text": [
      "0.8\n"
     ]
    }
   ],
   "source": [
    "Min, Max, N = 0,40,51\n",
    "\n",
    "x = np.linspace(Min,Max,N)\n",
    "y = x.copy()\n",
    "h = x[1]-x[0]\n",
    "print(h)"
   ]
  },
  {
   "cell_type": "code",
   "execution_count": 3,
   "id": "d15e67b7",
   "metadata": {},
   "outputs": [],
   "source": [
    "def h1(y):\n",
    "    return 100.\n",
    "\n",
    "def h2(y):\n",
    "    return 80.\n",
    "\n",
    "def h3(x):\n",
    "    return 50.\n",
    "\n",
    "def h4(x):\n",
    "    return 1."
   ]
  },
  {
   "cell_type": "code",
   "execution_count": 4,
   "id": "5589dba1",
   "metadata": {},
   "outputs": [],
   "source": [
    "def InitT():\n",
    "    \n",
    "    T = np.zeros((N,N))\n",
    "    \n",
    "    T[0,:] = h1(y)\n",
    "    T[-1,:] = h2(y)\n",
    "    T[:,0] = h3(x)\n",
    "    T[:,-1] = h4(x)\n",
    "    \n",
    "    return T"
   ]
  },
  {
   "cell_type": "code",
   "execution_count": 5,
   "id": "7d9c5f51",
   "metadata": {},
   "outputs": [],
   "source": [
    "T = InitT()"
   ]
  },
  {
   "cell_type": "code",
   "execution_count": 6,
   "id": "f649fe40",
   "metadata": {},
   "outputs": [
    {
     "data": {
      "text/plain": [
       "array([[ 50., 100., 100., ..., 100., 100.,   1.],\n",
       "       [ 50.,   0.,   0., ...,   0.,   0.,   1.],\n",
       "       [ 50.,   0.,   0., ...,   0.,   0.,   1.],\n",
       "       ...,\n",
       "       [ 50.,   0.,   0., ...,   0.,   0.,   1.],\n",
       "       [ 50.,   0.,   0., ...,   0.,   0.,   1.],\n",
       "       [ 50.,  80.,  80., ...,  80.,  80.,   1.]])"
      ]
     },
     "execution_count": 6,
     "metadata": {},
     "output_type": "execute_result"
    }
   ],
   "source": [
    "T"
   ]
  },
  {
   "cell_type": "code",
   "execution_count": 7,
   "id": "396c825a",
   "metadata": {},
   "outputs": [],
   "source": [
    "def GausSeidel(T,Nit = int(1e5), tolerancia = 1e-3):\n",
    "    \n",
    "    itmax = 0\n",
    "    \n",
    "    \n",
    "    for it in tqdm(range(Nit)):\n",
    "        \n",
    "        dmax = 0.\n",
    "        \n",
    "        for i in range(1, len(x)-1):\n",
    "            for j in range(1, len(y)-1):\n",
    "                \n",
    "                tmp = 0.25*( T[i+1,j] + T[i-1,j] + T[i,j+1] + T[i,j-1] )\n",
    "                \n",
    "                # Matriz resta\n",
    "                r = (tmp - T[i,j])\n",
    "                \n",
    "                # Actualizo la matrix\n",
    "                T[i,j] += r\n",
    "                \n",
    "                if np.abs(r) > dmax:\n",
    "                    dmax = r\n",
    "                    \n",
    "        #print(np.round(T,2))\n",
    "                \n",
    "        \n",
    "        if np.abs(dmax) < tolerancia:\n",
    "            \n",
    "            print(it)\n",
    "            itmax = it\n",
    "            break\n",
    "            \n",
    "    return T,itmax\n",
    "        "
   ]
  },
  {
   "cell_type": "code",
   "execution_count": null,
   "id": "d00ba921",
   "metadata": {},
   "outputs": [
    {
     "name": "stderr",
     "output_type": "stream",
     "text": [
      "  1%|▍                                               | 877/100000 [00:14<27:01, 61.12it/s]"
     ]
    }
   ],
   "source": [
    "T = InitT()\n",
    "Tf1 =  GausSeidel(T)"
   ]
  },
  {
   "cell_type": "code",
   "execution_count": null,
   "id": "b2043133",
   "metadata": {},
   "outputs": [],
   "source": []
  },
  {
   "cell_type": "code",
   "execution_count": null,
   "id": "15d16f1a",
   "metadata": {},
   "outputs": [],
   "source": []
  }
 ],
 "metadata": {
  "kernelspec": {
   "display_name": "Python 3 (ipykernel)",
   "language": "python",
   "name": "python3"
  },
  "language_info": {
   "codemirror_mode": {
    "name": "ipython",
    "version": 3
   },
   "file_extension": ".py",
   "mimetype": "text/x-python",
   "name": "python",
   "nbconvert_exporter": "python",
   "pygments_lexer": "ipython3",
   "version": "3.11.5"
  }
 },
 "nbformat": 4,
 "nbformat_minor": 5
}
